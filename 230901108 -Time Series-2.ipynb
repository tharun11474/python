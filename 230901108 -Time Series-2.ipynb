{
 "cells": [
  {
   "cell_type": "code",
   "execution_count": 1,
   "id": "3f915ad1",
   "metadata": {},
   "outputs": [
    {
     "name": "stdout",
     "output_type": "stream",
     "text": [
      "2025-04-11 13:48:00.250257\n"
     ]
    }
   ],
   "source": [
    "import datetime\n",
    "cd=datetime.datetime.now()\n",
    "print(cd)"
   ]
  },
  {
   "cell_type": "code",
   "execution_count": 2,
   "id": "abdd1076",
   "metadata": {},
   "outputs": [
    {
     "name": "stdout",
     "output_type": "stream",
     "text": [
      "\n",
      "Two-digit year: 25\n"
     ]
    }
   ],
   "source": [
    "res=cd.strftime(\"%y\")\n",
    "print(\"\\nTwo-digit year:\", res)\n"
   ]
  },
  {
   "cell_type": "code",
   "execution_count": 3,
   "id": "8537b564",
   "metadata": {},
   "outputs": [
    {
     "name": "stdout",
     "output_type": "stream",
     "text": [
      "\n",
      "Four-digit year: 2025\n"
     ]
    }
   ],
   "source": [
    "res1=cd.strftime(\"%Y\")\n",
    "print(\"\\nFour-digit year:\", res1)"
   ]
  },
  {
   "cell_type": "code",
   "execution_count": 4,
   "id": "f154411b",
   "metadata": {},
   "outputs": [
    {
     "name": "stdout",
     "output_type": "stream",
     "text": [
      "\n",
      "Two-digit month [01, 12]: 04\n"
     ]
    }
   ],
   "source": [
    "res=cd.strftime(\"%m\")\n",
    "print(\"\\nTwo-digit month [01, 12]:\",res)"
   ]
  },
  {
   "cell_type": "code",
   "execution_count": 5,
   "id": "493563a5",
   "metadata": {},
   "outputs": [
    {
     "name": "stdout",
     "output_type": "stream",
     "text": [
      "\n",
      "Short version of month Apr\n"
     ]
    }
   ],
   "source": [
    "res=cd.strftime(\"%b\")\n",
    "print(\"\\nShort version of month\", res)"
   ]
  },
  {
   "cell_type": "code",
   "execution_count": 6,
   "id": "ae9ad232",
   "metadata": {},
   "outputs": [
    {
     "name": "stdout",
     "output_type": "stream",
     "text": [
      "\n",
      "Full name of month: April\n"
     ]
    }
   ],
   "source": [
    "res=cd.strftime(\"%B\")\n",
    "print(\"\\nFull name of month:\",res)"
   ]
  },
  {
   "cell_type": "code",
   "execution_count": 7,
   "id": "a9010c61",
   "metadata": {},
   "outputs": [
    {
     "name": "stdout",
     "output_type": "stream",
     "text": [
      "\n",
      "Days of the year: 101\n"
     ]
    }
   ],
   "source": [
    "res=cd.strftime(\"%j\")\n",
    "print(\"\\nDays of the year:\", res)"
   ]
  },
  {
   "cell_type": "code",
   "execution_count": 8,
   "id": "f923db66",
   "metadata": {},
   "outputs": [
    {
     "name": "stdout",
     "output_type": "stream",
     "text": [
      "\n",
      "Shortcut for %m/%d/%y (e.g., 04/18/12): 04/11/25\n"
     ]
    }
   ],
   "source": [
    "res=cd.strftime(\"%D\")\n",
    "print(\"\\nShortcut for %m/%d/%y (e.g., 04/18/12):\", res)"
   ]
  },
  {
   "cell_type": "code",
   "execution_count": 9,
   "id": "5d64c585",
   "metadata": {},
   "outputs": [
    {
     "name": "stdout",
     "output_type": "stream",
     "text": [
      "\n",
      "Two-digit day [01, 31]: 11\n"
     ]
    }
   ],
   "source": [
    "res=cd.strftime(\"%d\")\n",
    "print(\"\\nTwo-digit day [01, 31]:\", res)"
   ]
  },
  {
   "cell_type": "code",
   "execution_count": 10,
   "id": "188509f7",
   "metadata": {},
   "outputs": [
    {
     "name": "stdout",
     "output_type": "stream",
     "text": [
      "\n",
      "Short version of day Fri\n"
     ]
    }
   ],
   "source": [
    "res=cd.strftime(\"%a\")\n",
    "print(\"\\nShort version of day\", res)"
   ]
  },
  {
   "cell_type": "code",
   "execution_count": 11,
   "id": "bb5ce380",
   "metadata": {},
   "outputs": [
    {
     "name": "stdout",
     "output_type": "stream",
     "text": [
      "\n",
      "Full name of a day: A\n"
     ]
    }
   ],
   "source": [
    "res=cd.strftime(\"A\")\n",
    "print(\"\\nFull name of a day:\", res)"
   ]
  },
  {
   "cell_type": "code",
   "execution_count": 12,
   "id": "e59d3eed",
   "metadata": {},
   "outputs": [
    {
     "name": "stdout",
     "output_type": "stream",
     "text": [
      "\n",
      "Hour (24-hour clock) [00, 23]: 13\n"
     ]
    }
   ],
   "source": [
    "res=cd.strftime(\"%H\")\n",
    "print(\"\\nHour (24-hour clock) [00, 23]:\",res)"
   ]
  },
  {
   "cell_type": "code",
   "execution_count": 13,
   "id": "41d84065",
   "metadata": {},
   "outputs": [
    {
     "name": "stdout",
     "output_type": "stream",
     "text": [
      "\n",
      "Hour (12-hour clock) [01, 12] 01\n"
     ]
    }
   ],
   "source": [
    "res=cd.strftime(\"%I\")\n",
    "print(\"\\nHour (12-hour clock) [01, 12]\",res)\n"
   ]
  },
  {
   "cell_type": "code",
   "execution_count": 14,
   "id": "6c5edba4",
   "metadata": {},
   "outputs": [
    {
     "name": "stdout",
     "output_type": "stream",
     "text": [
      "\n",
      "Two-digit minute [00, 59]: 48\n"
     ]
    }
   ],
   "source": [
    "res=cd.strftime(\"%M\")\n",
    "print(\"\\nTwo-digit minute [00, 59]:\", res)"
   ]
  },
  {
   "cell_type": "code",
   "execution_count": 15,
   "id": "0ad835eb",
   "metadata": {},
   "outputs": [
    {
     "name": "stdout",
     "output_type": "stream",
     "text": [
      "\n",
      "Second (00, 61] (seconds 60, 61 account for leap seconds): 00\n"
     ]
    }
   ],
   "source": [
    "res=cd.strftime(\"%S\")\n",
    "print(\"\\nSecond (00, 61] (seconds 60, 61 account for leap seconds):\",res)"
   ]
  },
  {
   "cell_type": "code",
   "execution_count": 16,
   "id": "8ce70dfd",
   "metadata": {},
   "outputs": [
    {
     "name": "stdout",
     "output_type": "stream",
     "text": [
      "\n",
      "Shortcut for %Y-%m-%d (eg, 2012-4-18): 2025-04-11\n"
     ]
    }
   ],
   "source": [
    "res=cd.strftime(\"%F\")\n",
    "print(\"\\nShortcut for %Y-%m-%d (eg, 2012-4-18):\",res)\n"
   ]
  },
  {
   "cell_type": "code",
   "execution_count": 17,
   "id": "247c1980",
   "metadata": {},
   "outputs": [
    {
     "name": "stdout",
     "output_type": "stream",
     "text": [
      "\n",
      "Microsecond as an integer, zero-padded (from 000000 to 999999); 250257\n"
     ]
    }
   ],
   "source": [
    "res=cd.strftime(\"%f\")\n",
    "print(\"\\nMicrosecond as an integer, zero-padded (from 000000 to 999999);\", res)"
   ]
  },
  {
   "cell_type": "code",
   "execution_count": 18,
   "id": "9972dd4f",
   "metadata": {},
   "outputs": [
    {
     "name": "stdout",
     "output_type": "stream",
     "text": [
      "\n",
      "Locale equivalent of AM or PM: PM\n"
     ]
    }
   ],
   "source": [
    "res=cd.strftime(\"%p\")\n",
    "print(\"\\nLocale equivalent of AM or PM:\", res)"
   ]
  },
  {
   "cell_type": "code",
   "execution_count": 19,
   "id": "8124adc7",
   "metadata": {},
   "outputs": [
    {
     "name": "stdout",
     "output_type": "stream",
     "text": [
      "\n",
      "Locale-appropriate formatted date (eg, in the United States, May 1, 2012 yields '05/01/2012) 04/11/25\n"
     ]
    }
   ],
   "source": [
    "res=cd.strftime(\"%x\")\n",
    "print(\"\\nLocale-appropriate formatted date (eg, in the United States, May 1, 2012 yields '05/01/2012)\", res)"
   ]
  },
  {
   "cell_type": "code",
   "execution_count": 20,
   "id": "d1976d08",
   "metadata": {},
   "outputs": [
    {
     "name": "stdout",
     "output_type": "stream",
     "text": [
      "\n",
      "Locale-appropriate time (e.g., '04:24:12 PM'): 13:48:00\n"
     ]
    }
   ],
   "source": [
    "res=cd.strftime(\"%X\")\n",
    "print(\"\\nLocale-appropriate time (e.g., '04:24:12 PM'):\",res)"
   ]
  },
  {
   "cell_type": "code",
   "execution_count": null,
   "id": "57341af9",
   "metadata": {},
   "outputs": [],
   "source": []
  }
 ],
 "metadata": {
  "kernelspec": {
   "display_name": "Python 3 (ipykernel)",
   "language": "python",
   "name": "python3"
  },
  "language_info": {
   "codemirror_mode": {
    "name": "ipython",
    "version": 3
   },
   "file_extension": ".py",
   "mimetype": "text/x-python",
   "name": "python",
   "nbconvert_exporter": "python",
   "pygments_lexer": "ipython3",
   "version": "3.11.4"
  }
 },
 "nbformat": 4,
 "nbformat_minor": 5
}
