{
 "cells": [
  {
   "cell_type": "code",
   "execution_count": 8,
   "id": "26642e6b-3583-456f-8da6-8bb560830620",
   "metadata": {},
   "outputs": [
    {
     "name": "stdout",
     "output_type": "stream",
     "text": [
      "series form array:\n",
      "0    s\n",
      "1    a\n",
      "2    i\n",
      "3    r\n",
      "4    b\n",
      "5    l\n",
      "6    i\n",
      "dtype: object\n"
     ]
    }
   ],
   "source": [
    "import pandas as pd\n",
    "import numpy as np\n",
    "arr=np.array(['s','a','i','r','b','l','i'])\n",
    "a=pd.Series(arr)\n",
    "print(\"series form array:\")\n",
    "print(a)"
   ]
  },
  {
   "cell_type": "code",
   "execution_count": 10,
   "id": "1df611ba-50d5-4173-89b9-812c47641e4d",
   "metadata": {},
   "outputs": [
    {
     "name": "stdout",
     "output_type": "stream",
     "text": [
      "\n",
      " Series from dictionary:\n",
      "\n",
      "a    0\n",
      "b    1\n",
      "c    2\n",
      "dtype: int64\n"
     ]
    }
   ],
   "source": [
    "arr={'a':0,'b':1,'c':2}\n",
    "b=pd.Series(arr)\n",
    "print(\"\\n Series from dictionary:\\n\")\n",
    "print(b)"
   ]
  },
  {
   "cell_type": "code",
   "execution_count": 16,
   "id": "087b49a1-25dd-4e1c-b99e-f926ac47c448",
   "metadata": {},
   "outputs": [
    {
     "name": "stdout",
     "output_type": "stream",
     "text": [
      "\n",
      " Series using Scalar\n",
      "\n",
      "0    4\n",
      "1    4\n",
      "2    4\n",
      "3    4\n",
      "dtype: int64\n"
     ]
    }
   ],
   "source": [
    "x=pd.Series(4,index=[0,1,2,3])\n",
    "print(\"\\n Series using Scalar\\n\")\n",
    "print(x)"
   ]
  },
  {
   "cell_type": "code",
   "execution_count": 20,
   "id": "eeecc48a-dd0e-46bf-b824-259f975b4103",
   "metadata": {},
   "outputs": [
    {
     "name": "stdout",
     "output_type": "stream",
     "text": [
      "\n",
      " a.series:\n",
      " 0    s\n",
      "1    a\n",
      "2    i\n",
      "3    r\n",
      "4    b\n",
      "5    l\n",
      "6    i\n",
      "dtype: object\n",
      "\n",
      " index:\n",
      " RangeIndex(start=0, stop=7, step=1)\n",
      "\n",
      " values:\n",
      " ['s' 'a' 'i' 'r' 'b' 'l' 'i']\n",
      "\n",
      " shape:\n",
      " (7,)\n",
      "\n",
      " dimension:\n",
      " 1\n",
      "\n",
      " size:\n",
      " 7\n"
     ]
    }
   ],
   "source": [
    "print(\"\\n a.series:\\n\",a)\n",
    "print(\"\\n index:\\n\",a.index)\n",
    "print(\"\\n values:\\n\",a.values)\n",
    "print(\"\\n shape:\\n\",a.shape)\n",
    "print(\"\\n dimension:\\n\",a.ndim)\n",
    "print(\"\\n size:\\n\",a.size)"
   ]
  },
  {
   "cell_type": "code",
   "execution_count": null,
   "id": "9d20109d-32be-40e7-8326-747d739b2799",
   "metadata": {},
   "outputs": [],
   "source": []
  }
 ],
 "metadata": {
  "kernelspec": {
   "display_name": "Python 3 (ipykernel)",
   "language": "python",
   "name": "python3"
  },
  "language_info": {
   "codemirror_mode": {
    "name": "ipython",
    "version": 3
   },
   "file_extension": ".py",
   "mimetype": "text/x-python",
   "name": "python",
   "nbconvert_exporter": "python",
   "pygments_lexer": "ipython3",
   "version": "3.12.7"
  }
 },
 "nbformat": 4,
 "nbformat_minor": 5
}
