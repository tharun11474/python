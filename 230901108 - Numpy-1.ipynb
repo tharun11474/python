{
 "cells": [
  {
   "cell_type": "code",
   "execution_count": 1,
   "id": "bae690fd-0f3d-4409-ae31-03b48ebcd227",
   "metadata": {},
   "outputs": [
    {
     "name": "stdout",
     "output_type": "stream",
     "text": [
      "[1 2 3 4 5]\n"
     ]
    }
   ],
   "source": [
    "import numpy as np\n",
    "a=np.array([1,2,3,4,5])\n",
    "print(a)"
   ]
  },
  {
   "cell_type": "code",
   "execution_count": 5,
   "id": "a86f7731-e6b1-43f4-878c-2feec03f7591",
   "metadata": {},
   "outputs": [
    {
     "name": "stdout",
     "output_type": "stream",
     "text": [
      "[[1 2 3 4]\n",
      " [5 6 7 8]]\n"
     ]
    }
   ],
   "source": [
    "import numpy as np\n",
    "b=np.array([[1,2,3,4],[5,6,7,8]])\n",
    "print(b)"
   ]
  },
  {
   "cell_type": "code",
   "execution_count": 7,
   "id": "95050bd8-69bb-4d68-8631-3c0602b7c7a2",
   "metadata": {},
   "outputs": [
    {
     "name": "stdout",
     "output_type": "stream",
     "text": [
      "[[0. 0. 0. 0. 0.]\n",
      " [0. 0. 0. 0. 0.]\n",
      " [0. 0. 0. 0. 0.]]\n"
     ]
    }
   ],
   "source": [
    "import numpy as np\n",
    "c=np.zeros((3,5))\n",
    "print(c)"
   ]
  },
  {
   "cell_type": "code",
   "execution_count": 9,
   "id": "b4a1431c-0aea-4002-bb09-aef0e24643ae",
   "metadata": {},
   "outputs": [
    {
     "name": "stdout",
     "output_type": "stream",
     "text": [
      "[[0.1571388  0.03752521]\n",
      " [0.88441023 0.60111338]]\n"
     ]
    }
   ],
   "source": [
    "d=np.random.random((2,2))\n",
    "print(d)"
   ]
  },
  {
   "cell_type": "code",
   "execution_count": 13,
   "id": "95e62758-7e36-44e3-926e-83940f9c25bc",
   "metadata": {},
   "outputs": [
    {
     "name": "stdout",
     "output_type": "stream",
     "text": [
      "[ 0  5 10 15]\n"
     ]
    }
   ],
   "source": [
    "e=np.arange(0,20,5)\n",
    "print(e)"
   ]
  },
  {
   "cell_type": "code",
   "execution_count": 19,
   "id": "d839536b-c802-47de-8e64-c7d6c780f979",
   "metadata": {},
   "outputs": [
    {
     "name": "stdout",
     "output_type": "stream",
     "text": [
      "[[1 2 3 4]\n",
      " [5 6 7 8]\n",
      " [1 2 0 1]]\n",
      "[[1 2 3]\n",
      " [4 5 6]\n",
      " [7 8 1]\n",
      " [2 0 1]]\n"
     ]
    }
   ],
   "source": [
    "import numpy as np\n",
    "arr=np.array([[1,2,3,4],[5,6,7,8],[1,2,0,1]])\n",
    "newarr=arr.reshape(4,3)\n",
    "print(arr)\n",
    "print(newarr)\n"
   ]
  },
  {
   "cell_type": "code",
   "execution_count": 21,
   "id": "2c1ef8f5-13fc-4b88-a165-6865c669567a",
   "metadata": {},
   "outputs": [
    {
     "name": "stdout",
     "output_type": "stream",
     "text": [
      "[[1 2 3 4]\n",
      " [5 6 7 8]\n",
      " [1 2 0 1]]\n",
      "[1 2 3 4 5 6 7 8 1 2 0 1]\n"
     ]
    }
   ],
   "source": [
    "flat=arr.flatten()\n",
    "print(arr)\n",
    "print(flat)\n"
   ]
  },
  {
   "cell_type": "code",
   "execution_count": 23,
   "id": "f03cdf7c-cbc7-43b5-87f3-7f9f9d3544d0",
   "metadata": {},
   "outputs": [
    {
     "name": "stdout",
     "output_type": "stream",
     "text": [
      "2\n"
     ]
    }
   ],
   "source": [
    "print(arr.ndim)"
   ]
  },
  {
   "cell_type": "code",
   "execution_count": 25,
   "id": "31b5ca29-6a63-43ad-87c3-7f0533e1baf6",
   "metadata": {},
   "outputs": [
    {
     "name": "stdout",
     "output_type": "stream",
     "text": [
      "(3, 4)\n"
     ]
    }
   ],
   "source": [
    "print(arr.shape)"
   ]
  },
  {
   "cell_type": "code",
   "execution_count": 27,
   "id": "0b8185a8-8cf9-4edf-b94e-62c752923693",
   "metadata": {},
   "outputs": [
    {
     "name": "stdout",
     "output_type": "stream",
     "text": [
      "int64\n"
     ]
    }
   ],
   "source": [
    "print(arr.dtype)"
   ]
  },
  {
   "cell_type": "code",
   "execution_count": 29,
   "id": "12387e2e-4e39-4960-81b3-7252ec0c16d1",
   "metadata": {},
   "outputs": [
    {
     "name": "stdout",
     "output_type": "stream",
     "text": [
      "12\n"
     ]
    }
   ],
   "source": [
    "print(arr.size)"
   ]
  },
  {
   "cell_type": "code",
   "execution_count": 31,
   "id": "bc552f2b-1fc9-450f-8d6e-baa232dd8844",
   "metadata": {},
   "outputs": [
    {
     "name": "stdout",
     "output_type": "stream",
     "text": [
      "\n",
      "convert array:\n",
      " [[1. 2. 3. 4.]\n",
      " [5. 6. 7. 8.]\n",
      " [1. 2. 0. 1.]]\n",
      "\n",
      "converted array type:\n",
      " float32\n"
     ]
    }
   ],
   "source": [
    "newtype=arr.astype('f')\n",
    "print(\"\\nconvert array:\\n\",newtype)\n",
    "print('\\nconverted array type:\\n',newtype.dtype)"
   ]
  },
  {
   "cell_type": "code",
   "execution_count": 37,
   "id": "c51b7ff5-8520-4ae5-81d7-1b6e95647316",
   "metadata": {},
   "outputs": [
    {
     "name": "stdout",
     "output_type": "stream",
     "text": [
      "\n",
      " size of array:\n",
      " 3\n"
     ]
    }
   ],
   "source": [
    "size=len(arr)\n",
    "print(\"\\n size of array:\\n\",size)"
   ]
  },
  {
   "cell_type": "code",
   "execution_count": null,
   "id": "54c3148a-be44-4115-8c31-1c2947650df6",
   "metadata": {},
   "outputs": [],
   "source": []
  }
 ],
 "metadata": {
  "kernelspec": {
   "display_name": "Python 3 (ipykernel)",
   "language": "python",
   "name": "python3"
  },
  "language_info": {
   "codemirror_mode": {
    "name": "ipython",
    "version": 3
   },
   "file_extension": ".py",
   "mimetype": "text/x-python",
   "name": "python",
   "nbconvert_exporter": "python",
   "pygments_lexer": "ipython3",
   "version": "3.12.4"
  }
 },
 "nbformat": 4,
 "nbformat_minor": 5
}
