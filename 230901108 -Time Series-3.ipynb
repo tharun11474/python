{
 "cells": [
  {
   "cell_type": "code",
   "execution_count": 1,
   "id": "f1ad0d34",
   "metadata": {},
   "outputs": [
    {
     "name": "stdout",
     "output_type": "stream",
     "text": [
      "Date Index \n",
      " 2011-01-02    1.324624\n",
      "2011-01-05   -0.830603\n",
      "2011-01-07    0.205035\n",
      "2011-01-08   -0.033262\n",
      "2011-01-10    0.348834\n",
      "2011-01-12   -0.852342\n",
      "dtype: float64\n"
     ]
    }
   ],
   "source": [
    "import pandas as pd\n",
    "import numpy as np\n",
    "from datetime import datetime\n",
    "dates = [datetime(2011, 1, 2),datetime(2011, 1, 5),datetime(2011, 1, 7),datetime(2011, 1, 8),datetime(2011, 1, 10),datetime(2011, 1, 12)]\n",
    "ts = pd.Series(np.random.randn(6), index=dates)\n",
    "print(\"Date Index \\n\",ts)\n"
   ]
  },
  {
   "cell_type": "code",
   "execution_count": 2,
   "id": "99313a3a",
   "metadata": {},
   "outputs": [
    {
     "name": "stdout",
     "output_type": "stream",
     "text": [
      "\n",
      "Date Index alone from the series: \n",
      " DatetimeIndex(['2011-01-02', '2011-01-05', '2011-01-07', '2011-01-08',\n",
      "               '2011-01-10', '2011-01-12'],\n",
      "              dtype='datetime64[ns]', freq=None)\n"
     ]
    }
   ],
   "source": [
    "print(\"\\nDate Index alone from the series: \\n\",ts.index)"
   ]
  },
  {
   "cell_type": "code",
   "execution_count": 3,
   "id": "10a3c540",
   "metadata": {},
   "outputs": [
    {
     "name": "stdout",
     "output_type": "stream",
     "text": [
      "\n",
      "Second index:\n",
      " 2011-01-07 00:00:00\n"
     ]
    }
   ],
   "source": [
    "stamp=ts.index[2]\n",
    "print(\"\\nSecond index:\\n\", stamp)"
   ]
  },
  {
   "cell_type": "code",
   "execution_count": 4,
   "id": "4026b726",
   "metadata": {},
   "outputs": [
    {
     "name": "stdout",
     "output_type": "stream",
     "text": [
      "\n",
      "Daterange up to 1000 days:\n",
      " 2000-01-01   -0.669687\n",
      "2000-01-02   -0.912379\n",
      "2000-01-03   -1.094004\n",
      "2000-01-04   -0.186145\n",
      "2000-01-05   -0.842684\n",
      "                ...   \n",
      "2002-09-22   -0.243819\n",
      "2002-09-23   -0.567822\n",
      "2002-09-24   -1.207170\n",
      "2002-09-25    0.281498\n",
      "2002-09-26   -0.984980\n",
      "Freq: D, Length: 1000, dtype: float64\n"
     ]
    }
   ],
   "source": [
    "longer_ts=pd.Series(np.random.randn(1000),index=pd.date_range(\"2000-01-01\",periods=1000))\n",
    "print(\"\\nDaterange up to 1000 days:\\n\",longer_ts)\n"
   ]
  },
  {
   "cell_type": "code",
   "execution_count": 5,
   "id": "4fd2e15a",
   "metadata": {},
   "outputs": [
    {
     "name": "stdout",
     "output_type": "stream",
     "text": [
      "\n",
      "Date range-2001 year:\n",
      " 2001-01-01   -0.880132\n",
      "2001-01-02   -1.148822\n",
      "2001-01-03   -0.223646\n",
      "2001-01-04   -0.870912\n",
      "2001-01-05    1.854111\n",
      "                ...   \n",
      "2001-12-27    0.190412\n",
      "2001-12-28    1.320597\n",
      "2001-12-29    0.943361\n",
      "2001-12-30    0.188854\n",
      "2001-12-31    1.952885\n",
      "Freq: D, Length: 365, dtype: float64\n"
     ]
    }
   ],
   "source": [
    "print(\"\\nDate range-2001 year:\\n\", longer_ts[\"2001\"])"
   ]
  },
  {
   "cell_type": "code",
   "execution_count": 6,
   "id": "5a79c30e",
   "metadata": {},
   "outputs": [
    {
     "name": "stdout",
     "output_type": "stream",
     "text": [
      "\n",
      "Date range-05 month 2001 year:\n",
      " 2001-05-01    0.236093\n",
      "2001-05-02    1.096510\n",
      "2001-05-03   -0.535523\n",
      "2001-05-04    2.032156\n",
      "2001-05-05   -1.284180\n",
      "2001-05-06   -0.579119\n",
      "2001-05-07    0.180708\n",
      "2001-05-08   -0.506870\n",
      "2001-05-09    1.837357\n",
      "2001-05-10    1.097072\n",
      "2001-05-11   -0.511950\n",
      "2001-05-12    0.868826\n",
      "2001-05-13   -0.910967\n",
      "2001-05-14    2.023900\n",
      "2001-05-15    1.388073\n",
      "2001-05-16   -0.726158\n",
      "2001-05-17   -0.178686\n",
      "2001-05-18   -0.906135\n",
      "2001-05-19    1.655017\n",
      "2001-05-20   -0.085955\n",
      "2001-05-21   -0.475986\n",
      "2001-05-22    0.419847\n",
      "2001-05-23   -0.798008\n",
      "2001-05-24   -0.192853\n",
      "2001-05-25   -2.420523\n",
      "2001-05-26    0.980668\n",
      "2001-05-27   -0.220773\n",
      "2001-05-28   -0.927237\n",
      "2001-05-29   -0.754617\n",
      "2001-05-30    1.218018\n",
      "2001-05-31    0.087543\n",
      "Freq: D, dtype: float64\n"
     ]
    }
   ],
   "source": [
    "print(\"\\nDate range-05 month 2001 year:\\n\", longer_ts[\"2001-05\"])"
   ]
  },
  {
   "cell_type": "code",
   "execution_count": 7,
   "id": "56384096",
   "metadata": {},
   "outputs": [
    {
     "name": "stdout",
     "output_type": "stream",
     "text": [
      "\n",
      "Date range-first few dates in 2000 year:\n",
      " 2000-01-01   -0.669687\n",
      "2000-01-02   -0.912379\n",
      "2000-01-03   -1.094004\n",
      "2000-01-04   -0.186145\n",
      "2000-01-05   -0.842684\n",
      "Freq: D, dtype: float64\n"
     ]
    }
   ],
   "source": [
    "print(\"\\nDate range-first few dates in 2000 year:\\n\",longer_ts[\"2000\"].head())"
   ]
  },
  {
   "cell_type": "code",
   "execution_count": 8,
   "id": "bae6cf9c",
   "metadata": {},
   "outputs": [
    {
     "name": "stdout",
     "output_type": "stream",
     "text": [
      "\n",
      "Date range-first 15 dates in 02 month 2001 year:\n",
      " 2000-02-01   -0.635343\n",
      "2000-02-02    0.114056\n",
      "2000-02-03    0.925228\n",
      "2000-02-04    0.403564\n",
      "2000-02-05   -0.320845\n",
      "2000-02-06   -1.859108\n",
      "2000-02-07    0.429711\n",
      "2000-02-08   -1.397718\n",
      "2000-02-09    0.849932\n",
      "2000-02-10   -0.309737\n",
      "2000-02-11    1.650187\n",
      "2000-02-12    0.011878\n",
      "2000-02-13    1.294707\n",
      "2000-02-14   -1.745528\n",
      "2000-02-15    0.274865\n",
      "Freq: D, dtype: float64\n"
     ]
    }
   ],
   "source": [
    "print(\"\\nDate range-first 15 dates in 02 month 2001 year:\\n\",longer_ts[\"2000-02\"].head(15))\n"
   ]
  },
  {
   "cell_type": "code",
   "execution_count": 9,
   "id": "a7a52ddb",
   "metadata": {},
   "outputs": [
    {
     "name": "stdout",
     "output_type": "stream",
     "text": [
      "\n",
      "Date range-rom 26-9-2001:\n",
      " 2000-09-26    0.027343\n",
      "2000-09-27   -1.265944\n",
      "2000-09-28   -0.756687\n",
      "2000-09-29   -0.915460\n",
      "2000-09-30    1.042994\n",
      "                ...   \n",
      "2002-09-22   -0.243819\n",
      "2002-09-23   -0.567822\n",
      "2002-09-24   -1.207170\n",
      "2002-09-25    0.281498\n",
      "2002-09-26   -0.984980\n",
      "Freq: D, Length: 731, dtype: float64\n"
     ]
    }
   ],
   "source": [
    "print(\"\\nDate range-rom 26-9-2001:\\n\",longer_ts[datetime(2000,9,26):])\n"
   ]
  },
  {
   "cell_type": "code",
   "execution_count": 10,
   "id": "044b959f",
   "metadata": {},
   "outputs": [
    {
     "name": "stdout",
     "output_type": "stream",
     "text": [
      "\n",
      "Date range from 26-9-2001 to 25-9- 2002:\n",
      " 2001-09-26   -0.572587\n",
      "2001-09-27    1.189124\n",
      "2001-09-28    1.150806\n",
      "2001-09-29   -1.368300\n",
      "2001-09-30   -0.580661\n",
      "                ...   \n",
      "2002-09-21    0.360894\n",
      "2002-09-22   -0.243819\n",
      "2002-09-23   -0.567822\n",
      "2002-09-24   -1.207170\n",
      "2002-09-25    0.281498\n",
      "Freq: D, Length: 365, dtype: float64\n"
     ]
    }
   ],
   "source": [
    "print(\"\\nDate range from 26-9-2001 to 25-9- 2002:\\n\",longer_ts[datetime(2001,9,26):datetime(2002,9,25)])\n"
   ]
  },
  {
   "cell_type": "code",
   "execution_count": null,
   "id": "5ac0ddad",
   "metadata": {},
   "outputs": [],
   "source": []
  }
 ],
 "metadata": {
  "kernelspec": {
   "display_name": "Python 3 (ipykernel)",
   "language": "python",
   "name": "python3"
  },
  "language_info": {
   "codemirror_mode": {
    "name": "ipython",
    "version": 3
   },
   "file_extension": ".py",
   "mimetype": "text/x-python",
   "name": "python",
   "nbconvert_exporter": "python",
   "pygments_lexer": "ipython3",
   "version": "3.11.4"
  }
 },
 "nbformat": 4,
 "nbformat_minor": 5
}
