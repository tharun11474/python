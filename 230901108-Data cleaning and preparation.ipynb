{
 "cells": [
  {
   "cell_type": "code",
   "execution_count": 15,
   "id": "5e8c69cb",
   "metadata": {},
   "outputs": [
    {
     "name": "stdout",
     "output_type": "stream",
     "text": [
      "original dataframe with NaN\n",
      "         one       two     three\n",
      "a  0.971870 -0.577832 -1.673703\n",
      "b       NaN       NaN       NaN\n",
      "c  0.557438 -0.688211 -0.797457\n",
      "d -0.070131  0.170472 -0.790884\n",
      "e       NaN       NaN       NaN\n",
      "f  0.491713 -0.831198 -0.581854\n",
      "\n",
      "\n",
      "dropped dataframe\n",
      "         one       two     three\n",
      "a  0.971870 -0.577832 -1.673703\n",
      "c  0.557438 -0.688211 -0.797457\n",
      "d -0.070131  0.170472 -0.790884\n",
      "f  0.491713 -0.831198 -0.581854\n",
      "\n",
      "\n"
     ]
    }
   ],
   "source": [
    "import pandas as pd\n",
    "import numpy as np\n",
    "df=pd.DataFrame(np.random.randn(4,3),index=['a','c','d','f'],\n",
    "               columns=['one','two','three'])\n",
    "df=df.reindex(['a','b','c','d','e','f'])\n",
    "print(\"original dataframe with NaN\\n\",df)\n",
    "print(\"\\n\")\n",
    "print(\"dropped dataframe\\n\",df.dropna())\n",
    "print(\"\\n\")"
   ]
  },
  {
   "cell_type": "code",
   "execution_count": 16,
   "id": "eea27754",
   "metadata": {},
   "outputs": [
    {
     "name": "stdout",
     "output_type": "stream",
     "text": [
      "original dataframe with NaN\n",
      "         one       two     three\n",
      "a -0.580284  0.702118  0.379647\n",
      "b       NaN       NaN       NaN\n",
      "c -0.348187  0.560608  0.132306\n",
      "\n",
      "\n",
      "dropped dataframe\n",
      "         one       two     three\n",
      "a -0.580284  0.702118  0.379647\n",
      "b  0.000000  0.000000  0.000000\n",
      "c -0.348187  0.560608  0.132306\n",
      "\n",
      "\n"
     ]
    }
   ],
   "source": [
    "import pandas as pd\n",
    "import numpy as np\n",
    "df=pd.DataFrame(np.random.randn(4,3),index=['a','c','d','f'],\n",
    "               columns=['one','two','three'])\n",
    "df=df.reindex(['a','b','c'])\n",
    "print(\"original dataframe with NaN\\n\",df)\n",
    "print(\"\\n\")\n",
    "print(\"dropped dataframe\\n\",df.fillna(0))\n",
    "print(\"\\n\")"
   ]
  },
  {
   "cell_type": "code",
   "execution_count": 17,
   "id": "98ccf231",
   "metadata": {},
   "outputs": [
    {
     "name": "stdout",
     "output_type": "stream",
     "text": [
      "original dataframe:\n",
      "    one  two\n",
      "0   10   60\n",
      "1   20   70\n",
      "2   30   80\n",
      "3   40   90\n",
      "4   50   10\n",
      "\n",
      " dataframe with replaced values:\n",
      "\n",
      "   one  two\n",
      "0    5   60\n",
      "1   20   70\n",
      "2   30    3\n",
      "3   40   90\n",
      "4   50    5\n"
     ]
    }
   ],
   "source": [
    "df=pd.DataFrame({'one':[10,20,30,40,50],\n",
    "                'two':[60,70,80,90,10]})\n",
    "print(\"original dataframe:\\n\",df)\n",
    "print(\"\\n dataframe with replaced values:\\n\")\n",
    "print(df.replace({10:5,80:3}))"
   ]
  },
  {
   "cell_type": "code",
   "execution_count": 18,
   "id": "54c0b78b",
   "metadata": {},
   "outputs": [
    {
     "name": "stdout",
     "output_type": "stream",
     "text": [
      "Original DataFrame:\n",
      "         one       two     three\n",
      "a  0.366913  0.672094  1.326900\n",
      "b       NaN       NaN       NaN\n",
      "c  0.574056 -0.267395 -0.386263\n",
      "d  1.644355 -0.326856  0.745961\n",
      "e       NaN       NaN       NaN\n",
      "f  1.325281 -1.547745 -1.980921\n",
      "\n",
      " NaN with truefil:\n",
      "\n",
      "a    False\n",
      "b     True\n",
      "c    False\n",
      "d    False\n",
      "e     True\n",
      "f    False\n",
      "Name: one, dtype: bool\n"
     ]
    }
   ],
   "source": [
    "df=pd.DataFrame(np.random.randn(4,3),index=['a','c','d','f'],\n",
    "               columns=['one','two','three'])\n",
    "df=df.reindex(['a','b','c','d','e','f'])\n",
    "print(\"Original DataFrame:\\n\",df)\n",
    "print(\"\\n NaN with truefil:\\n\")\n",
    "print(df['one'].isnull())"
   ]
  },
  {
   "cell_type": "code",
   "execution_count": 19,
   "id": "64a7f639",
   "metadata": {},
   "outputs": [
    {
     "name": "stdout",
     "output_type": "stream",
     "text": [
      "\n",
      " NaN filled with Background values:\n",
      "\n",
      "        one       two     three\n",
      "a  0.366913  0.672094  1.326900\n",
      "b  0.574056 -0.267395 -0.386263\n",
      "c  0.574056 -0.267395 -0.386263\n",
      "d  1.644355 -0.326856  0.745961\n",
      "e  1.325281 -1.547745 -1.980921\n",
      "f  1.325281 -1.547745 -1.980921\n"
     ]
    }
   ],
   "source": [
    "print(\"\\n NaN filled with Background values:\\n\")\n",
    "print(df.fillna(method='bfill'))"
   ]
  },
  {
   "cell_type": "code",
   "execution_count": null,
   "id": "91de131d",
   "metadata": {},
   "outputs": [],
   "source": []
  },
  {
   "cell_type": "code",
   "execution_count": null,
   "id": "ff9eeb5b",
   "metadata": {},
   "outputs": [],
   "source": []
  }
 ],
 "metadata": {
  "kernelspec": {
   "display_name": "Python 3 (ipykernel)",
   "language": "python",
   "name": "python3"
  },
  "language_info": {
   "codemirror_mode": {
    "name": "ipython",
    "version": 3
   },
   "file_extension": ".py",
   "mimetype": "text/x-python",
   "name": "python",
   "nbconvert_exporter": "python",
   "pygments_lexer": "ipython3",
   "version": "3.10.9"
  }
 },
 "nbformat": 4,
 "nbformat_minor": 5
}
