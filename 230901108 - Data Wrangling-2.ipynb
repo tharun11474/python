{
 "cells": [
  {
   "cell_type": "code",
   "execution_count": 2,
   "id": "3432ff0e",
   "metadata": {},
   "outputs": [
    {
     "name": "stdout",
     "output_type": "stream",
     "text": [
      "original dataframe:\n",
      "    name age gender marks\n",
      "0   sai  20      M    90\n",
      "1  yuva  18      F    76\n",
      "2   poo  19      M   NaN\n",
      "3  savi  20      F    74\n",
      "4   raj  18      F    65\n",
      "5  ruba  17      M   NaN\n",
      "6  rabi  19      M    71\n",
      "\n",
      "Replacing NaN with average marks:\n",
      "    name age gender  marks\n",
      "0   sai  20      M   90.0\n",
      "1  yuva  18      F   76.0\n",
      "2   poo  19      M   90.0\n",
      "3  savi  20      F   74.0\n",
      "4   raj  18      F   65.0\n",
      "5  ruba  17      M   90.0\n",
      "6  rabi  19      M   71.0\n"
     ]
    }
   ],
   "source": [
    "import pandas as pd\n",
    "#assign data\n",
    "data={'name':['sai','yuva','poo','savi','raj','ruba','rabi'],\n",
    "     'age':['20','18','19','20','18','17','19'],\n",
    "     'gender':['M','F','M','F','F','M','M'],\n",
    "     'marks':[90,76,'NaN',74,65,'NaN',71]}\n",
    "df=pd.DataFrame(data)\n",
    "print(\"original dataframe:\\n\",df)\n",
    "c=avg=0\n",
    "for ele in df['marks']:\n",
    "    if str(ele).isnumeric():\n",
    "       c+=1\n",
    "       avg+=ele\n",
    "       avg/=c\n",
    "       df=df.replace(to_replace='NaN',value=avg)\n",
    "print(\"\\nReplacing NaN with average marks:\\n\",df)"
   ]
  },
  {
   "cell_type": "code",
   "execution_count": 3,
   "id": "45ad0efa",
   "metadata": {},
   "outputs": [
    {
     "name": "stdout",
     "output_type": "stream",
     "text": [
      "\n",
      " Filtering and dropping function:\n",
      "    name gender  marks\n",
      "0   sai      M   90.0\n",
      "1  yuva      F   76.0\n",
      "2   poo      M   90.0\n",
      "5  ruba      M   90.0\n"
     ]
    }
   ],
   "source": [
    "df=df[df['marks']>=75]\n",
    "df=df.drop(['age'],axis=1)\n",
    "print(\"\\n Filtering and dropping function:\\n\",df)\n"
   ]
  },
  {
   "cell_type": "code",
   "execution_count": 4,
   "id": "7b5f5a53",
   "metadata": {},
   "outputs": [
    {
     "name": "stdout",
     "output_type": "stream",
     "text": [
      "\n",
      " original dataframe1:\n",
      "    name subject_id  marks_scored\n",
      "1   sai       sub1            98\n",
      "2   raj       sub2            90\n",
      "3  yuva       sub3            92\n",
      "4   ram       sub4            85\n",
      "5   sam       sub5            89\n",
      "original dataframe2:\n",
      "     name subject_id  marks_scored\n",
      "1  sanju       sub2            73\n",
      "2   ravi       sub4            80\n",
      "3  shree       sub3            85\n",
      "4  rahul       sub6            98\n",
      "5   niki       sub5            79\n",
      "    name subject_id  marks_scored\n",
      "1    sai       sub1            98\n",
      "2    raj       sub2            90\n",
      "3   yuva       sub3            92\n",
      "4    ram       sub4            85\n",
      "5    sam       sub5            89\n",
      "1  sanju       sub2            73\n",
      "2   ravi       sub4            80\n",
      "3  shree       sub3            85\n",
      "4  rahul       sub6            98\n",
      "5   niki       sub5            79\n"
     ]
    }
   ],
   "source": [
    "one=pd.DataFrame({'name':['sai','raj','yuva','ram','sam'],\n",
    "                 'subject_id':['sub1','sub2','sub3','sub4','sub5'],\n",
    "                 'marks_scored':[98,90,92,85,89]},\n",
    "                index=[1,2,3,4,5])\n",
    "two=pd.DataFrame({'name':['sanju','ravi','shree','rahul','niki'],\n",
    "                  'subject_id':['sub2','sub4','sub3','sub6','sub5'],\n",
    "                  'marks_scored':[73,80,85,98,79]},\n",
    "                index=[1,2,3,4,5])\n",
    "print(\"\\n original dataframe1:\\n\",one)\n",
    "print(\"original dataframe2:\\n\",two)\n",
    "print(pd.concat([one,two]))"
   ]
  },
  {
   "cell_type": "code",
   "execution_count": null,
   "id": "c5c86d23",
   "metadata": {},
   "outputs": [],
   "source": []
  }
 ],
 "metadata": {
  "kernelspec": {
   "display_name": "Python 3 (ipykernel)",
   "language": "python",
   "name": "python3"
  },
  "language_info": {
   "codemirror_mode": {
    "name": "ipython",
    "version": 3
   },
   "file_extension": ".py",
   "mimetype": "text/x-python",
   "name": "python",
   "nbconvert_exporter": "python",
   "pygments_lexer": "ipython3",
   "version": "3.10.9"
  }
 },
 "nbformat": 4,
 "nbformat_minor": 5
}
