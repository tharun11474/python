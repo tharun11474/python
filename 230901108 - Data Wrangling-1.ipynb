{
 "cells": [
  {
   "cell_type": "code",
   "execution_count": 23,
   "id": "e4d0625a",
   "metadata": {},
   "outputs": [
    {
     "name": "stdout",
     "output_type": "stream",
     "text": [
      "df1:\n",
      "    name  age\n",
      "0   ram   20\n",
      "1   raj   21\n",
      "2  ravi   22\n",
      "df2:\n",
      "    qualified\n",
      "0       True\n",
      "1      False\n",
      "2      False\n",
      "joining:\n",
      "    name  age  qualified\n",
      "0   ram   20       True\n",
      "1   raj   21      False\n",
      "2  ravi   22      False\n"
     ]
    }
   ],
   "source": [
    "import pandas as pd\n",
    "d1={\"name\":[\"ram\",\"raj\",\"ravi\"],\"age\":[20,21,22]}\n",
    "d2={\"qualified\":[True,False,False]}\n",
    "df1=pd.DataFrame(d1)\n",
    "print(\"df1:\\n\",df1)\n",
    "df2=pd.DataFrame(d2)\n",
    "print(\"df2:\\n\",df2)\n",
    "newdf=df1.join(df2)\n",
    "print(\"joining:\\n\",newdf)"
   ]
  },
  {
   "cell_type": "code",
   "execution_count": 30,
   "id": "1d44495d",
   "metadata": {},
   "outputs": [
    {
     "name": "stdout",
     "output_type": "stream",
     "text": [
      "    0   1\n",
      "0  11  12\n",
      "1   3   1\n",
      "   0  1\n",
      "0  5  6\n",
      "1  7  8\n",
      "    0  1\n",
      "0  11  6\n",
      "1   3  8\n"
     ]
    }
   ],
   "source": [
    "df1=pd.DataFrame(([11,12],[3,1]))\n",
    "df2=pd.DataFrame(([5,6],[7,8]))\n",
    "def myfunc(a,b):\n",
    "    if(a.sum()>b.sum()):\n",
    "        return a\n",
    "    else:\n",
    "        return b\n",
    "print(df1)\n",
    "print(df2)\n",
    "print(df1.combine(df2,myfunc))"
   ]
  },
  {
   "cell_type": "code",
   "execution_count": 43,
   "id": "1780b25b",
   "metadata": {},
   "outputs": [
    {
     "name": "stdout",
     "output_type": "stream",
     "text": [
      "df1:\n",
      "   name age\n",
      "0  sai  20\n",
      "1  sub  21\n",
      "2  poc  22\n",
      "df2:\n",
      "      name age\n",
      "0    yuvi  20\n",
      "1  tharun  21\n",
      "2  sanjay  22\n",
      "left merge:\n",
      "    name_x age name_y\n",
      "0    yuvi  20    sai\n",
      "1  tharun  21    sub\n",
      "2  sanjay  22    poc\n",
      "right merge:\n",
      "   name_x age  name_y\n",
      "0    sai  20    yuvi\n",
      "1    sub  21  tharun\n",
      "2    poc  22  sanjay\n"
     ]
    }
   ],
   "source": [
    "df1={\"name\":['sai','sub','poc'],\n",
    "     \"age\":['20','21','22']}\n",
    "df2={\"name\":[\"yuvi\",\"tharun\",\"sanjay\"],\n",
    "    \"age\":[\"20\",\"21\",\"22\"]}\n",
    "d1=pd.DataFrame(df1)\n",
    "print(\"df1:\\n\",d1)\n",
    "d2=pd.DataFrame(df2)\n",
    "print(\"df2:\\n\",d2)\n",
    "newdf1=d2.merge(d1,on=\"age\")\n",
    "newdf2=d1.merge(d2,on=\"age\")\n",
    "print(\"left merge:\\n\",newdf1)\n",
    "print(\"right merge:\\n\",newdf2)"
   ]
  },
  {
   "cell_type": "code",
   "execution_count": 45,
   "id": "d5936615",
   "metadata": {},
   "outputs": [
    {
     "name": "stdout",
     "output_type": "stream",
     "text": [
      "  team  points  assist  rebounds\n",
      "0    A      90      12        50\n",
      "1    B      80      34        60\n",
      "2    C      70      23        65\n",
      "3    D      60      29        70\n",
      "\n",
      "Reshape:\n",
      "    team  variable  value\n",
      "0     A    points     90\n",
      "1     B    points     80\n",
      "2     C    points     70\n",
      "3     D    points     60\n",
      "4     A    assist     12\n",
      "5     B    assist     34\n",
      "6     C    assist     23\n",
      "7     D    assist     29\n",
      "8     A  rebounds     50\n",
      "9     B  rebounds     60\n",
      "10    C  rebounds     65\n",
      "11    D  rebounds     70\n"
     ]
    }
   ],
   "source": [
    "df=pd.DataFrame({'team':['A','B','C','D'],\n",
    "                'points':[90,80,70,60],\n",
    "                'assist':[12,34,23,29],\n",
    "                'rebounds':[50,60,65,70]\n",
    "                })\n",
    "print(df)\n",
    "df=pd.melt(df,id_vars='team',value_vars=['points','assist','rebounds'])\n",
    "print(\"\\nReshape:\\n\",df)"
   ]
  },
  {
   "cell_type": "code",
   "execution_count": null,
   "id": "3fd2e777",
   "metadata": {},
   "outputs": [],
   "source": []
  }
 ],
 "metadata": {
  "kernelspec": {
   "display_name": "Python 3 (ipykernel)",
   "language": "python",
   "name": "python3"
  },
  "language_info": {
   "codemirror_mode": {
    "name": "ipython",
    "version": 3
   },
   "file_extension": ".py",
   "mimetype": "text/x-python",
   "name": "python",
   "nbconvert_exporter": "python",
   "pygments_lexer": "ipython3",
   "version": "3.10.9"
  }
 },
 "nbformat": 4,
 "nbformat_minor": 5
}
