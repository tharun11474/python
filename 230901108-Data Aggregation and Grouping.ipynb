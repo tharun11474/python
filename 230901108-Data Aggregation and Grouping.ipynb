{
 "cells": [
  {
   "cell_type": "code",
   "execution_count": 3,
   "id": "de135d72",
   "metadata": {
    "scrolled": true
   },
   "outputs": [
    {
     "name": "stdout",
     "output_type": "stream",
     "text": [
      "\n",
      " Orginal DataFrame:\n",
      "       Name Category  Value  Score\n",
      "0    Alice        A      1     60\n",
      "1      Bob        B      2     97\n",
      "2  Charlie        C      3     71\n",
      "3    Alice        A      3     62\n",
      "4      Bob        B      3     65\n",
      "5  Charlie        C      3     64\n",
      "\n",
      " Group and aggregate with one column:\n",
      "       Name  Value\n",
      "0    Alice      4\n",
      "1      Bob      5\n",
      "2  Charlie      6\n"
     ]
    }
   ],
   "source": [
    "import numpy as np \n",
    "import pandas as pd\n",
    "df=pd.DataFrame({'Name':['Alice','Bob','Charlie','Alice','Bob','Charlie'],'Category':['A','B','C','A','B','C'],\n",
    "                'Value':np.random.randint(1,5,size=6),\n",
    "                'Score':np.random.randint(60,100,size=6)})\n",
    "print(\"\\n Orginal DataFrame:\\n\",df)\n",
    "df1=df.groupby(('Name'),as_index=False)['Value'].sum()\n",
    "print(\"\\n Group and aggregate with one column:\\n\",df1)               \n",
    "               "
   ]
  },
  {
   "cell_type": "code",
   "execution_count": 7,
   "id": "a898975d",
   "metadata": {
    "scrolled": true
   },
   "outputs": [
    {
     "name": "stdout",
     "output_type": "stream",
     "text": [
      "\n",
      " Group and aggregate with two column sum:\n",
      "       Name  Value  Score\n",
      "0    Alice      4    122\n",
      "1      Bob      5    162\n",
      "2  Charlie      6    135\n"
     ]
    }
   ],
   "source": [
    "df2=df.groupby(('Name'),as_index=False)[['Value','Score']].sum()\n",
    "print(\"\\n Group and aggregate with two column sum:\\n\",df2)"
   ]
  },
  {
   "cell_type": "code",
   "execution_count": 8,
   "id": "b132b837",
   "metadata": {},
   "outputs": [
    {
     "name": "stdout",
     "output_type": "stream",
     "text": [
      "\n",
      " Group and Aggregated with one column:\n",
      "       Name  Value  Score\n",
      "0    Alice      4    122\n",
      "1      Bob      5    162\n",
      "2  Charlie      6    135\n"
     ]
    }
   ],
   "source": [
    "df3=df.groupby(('Name'),as_index=False)[['Value','Score']].agg('sum')\n",
    "print(\"\\n Group and Aggregated with one column:\\n\",df3)"
   ]
  },
  {
   "cell_type": "code",
   "execution_count": 9,
   "id": "be9694d5",
   "metadata": {
    "scrolled": true
   },
   "outputs": [
    {
     "name": "stdout",
     "output_type": "stream",
     "text": [
      "\n",
      " Group by name and multiple aggregation:\n",
      "         Value                   Score      \n",
      "          sum mean mean min max   sum  mean\n",
      "Name                                       \n",
      "Alice       4  2.0  2.0   1   3   122  61.0\n",
      "Bob         5  2.5  2.5   2   3   162  81.0\n",
      "Charlie     6  3.0  3.0   3   3   135  67.5\n"
     ]
    }
   ],
   "source": [
    "df4=df.groupby('Name').agg({'Value':['sum','mean','mean','min','max'],\n",
    "                            'Score':['sum','mean']})\n",
    "print(\"\\n Group by name and multiple aggregation:\\n\",df4)"
   ]
  },
  {
   "cell_type": "code",
   "execution_count": 10,
   "id": "2923be46",
   "metadata": {},
   "outputs": [
    {
     "name": "stdout",
     "output_type": "stream",
     "text": [
      "\n",
      " Group and count:\n",
      "       Name  Value\n",
      "0    Alice      2\n",
      "1      Bob      2\n",
      "2  Charlie      2\n"
     ]
    }
   ],
   "source": [
    "df5=df.groupby(('Name'),as_index=False)['Value'].count()\n",
    "print('\\n Group and count:\\n',df5)"
   ]
  },
  {
   "cell_type": "code",
   "execution_count": 11,
   "id": "6d2c428b",
   "metadata": {},
   "outputs": [
    {
     "name": "stdout",
     "output_type": "stream",
     "text": [
      "\n",
      " Group and count:\n",
      "          Category  Value  Score\n",
      "Name                           \n",
      "Alice           2      2      2\n",
      "Bob             2      2      2\n",
      "Charlie         2      2      2\n"
     ]
    }
   ],
   "source": [
    "df6=df.groupby(('Name')).count()\n",
    "print('\\n Group and count:\\n',df6)"
   ]
  },
  {
   "cell_type": "code",
   "execution_count": 12,
   "id": "91a485db",
   "metadata": {},
   "outputs": [
    {
     "name": "stdout",
     "output_type": "stream",
     "text": [
      "\n",
      " Group and display from first:\n",
      "       Name  Value\n",
      "0    Alice      1\n",
      "1      Bob      2\n",
      "2  Charlie      3\n",
      "\n",
      " Group and display from first:\n",
      "         Category  Value  Score\n",
      "Name                          \n",
      "Alice          A      1     60\n",
      "Bob            B      2     97\n",
      "Charlie        C      3     71\n"
     ]
    }
   ],
   "source": [
    "df7=df.groupby(('Name'),as_index=False)['Value'].first()\n",
    "print(\"\\n Group and display from first:\\n\",df7)\n",
    "df8=df.groupby(('Name')).first()\n",
    "print(\"\\n Group and display from first:\\n\",df8)"
   ]
  },
  {
   "cell_type": "code",
   "execution_count": 14,
   "id": "1427d737",
   "metadata": {},
   "outputs": [
    {
     "name": "stdout",
     "output_type": "stream",
     "text": [
      "\n",
      " Group and display from last:\n",
      "       Name  Value\n",
      "0    Alice      3\n",
      "1      Bob      3\n",
      "2  Charlie      3\n",
      "\n",
      " Group and display from last:\n",
      "         Category  Value  Score\n",
      "Name                          \n",
      "Alice          A      3     62\n",
      "Bob            B      3     65\n",
      "Charlie        C      3     64\n"
     ]
    }
   ],
   "source": [
    "df9=df.groupby(('Name'),as_index=False)['Value'].last()\n",
    "print(\"\\n Group and display from last:\\n\",df9)\n",
    "df10=df.groupby(('Name')).last()\n",
    "print(\"\\n Group and display from last:\\n\",df10)"
   ]
  },
  {
   "cell_type": "code",
   "execution_count": 16,
   "id": "9f6895f3",
   "metadata": {},
   "outputs": [
    {
     "name": "stdout",
     "output_type": "stream",
     "text": [
      "\n",
      " Group and display from size:\n",
      "       Name  size\n",
      "0    Alice     2\n",
      "1      Bob     2\n",
      "2  Charlie     2\n",
      "\n",
      " Group and display from size:\n",
      " Name\n",
      "Alice      2\n",
      "Bob        2\n",
      "Charlie    2\n",
      "dtype: int64\n"
     ]
    }
   ],
   "source": [
    "df11=df.groupby(('Name'),as_index=False)['Value'].size()\n",
    "print(\"\\n Group and display from size:\\n\",df11)\n",
    "df12=df.groupby(('Name')).size()\n",
    "print(\"\\n Group and display from size:\\n\",df12)"
   ]
  },
  {
   "cell_type": "code",
   "execution_count": null,
   "id": "9727427e",
   "metadata": {},
   "outputs": [],
   "source": []
  }
 ],
 "metadata": {
  "kernelspec": {
   "display_name": "Python 3 (ipykernel)",
   "language": "python",
   "name": "python3"
  },
  "language_info": {
   "codemirror_mode": {
    "name": "ipython",
    "version": 3
   },
   "file_extension": ".py",
   "mimetype": "text/x-python",
   "name": "python",
   "nbconvert_exporter": "python",
   "pygments_lexer": "ipython3",
   "version": "3.11.4"
  }
 },
 "nbformat": 4,
 "nbformat_minor": 5
}
