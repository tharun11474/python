{
 "cells": [
  {
   "cell_type": "code",
   "execution_count": 1,
   "id": "3f39dce8",
   "metadata": {},
   "outputs": [],
   "source": [
    "f=open(\"/Users/student/Downloads/data1.txt\",'w')\n",
    "f.write('Subi\\n')\n",
    "f.write('Prathap\\n')\n",
    "f.write('Kalai\\n')\n",
    "f.close()\n"
   ]
  },
  {
   "cell_type": "code",
   "execution_count": 2,
   "id": "db55931b",
   "metadata": {},
   "outputs": [
    {
     "name": "stdout",
     "output_type": "stream",
     "text": [
      "Subi\n",
      "\n",
      "Prathap\n",
      "\n",
      "Kalai\n",
      "\n"
     ]
    }
   ],
   "source": [
    "a=open(\"/Users/student/Downloads/data1.txt\",'r')\n",
    "print(a.readline())\n",
    "print(a.readline())\n",
    "print(a.readline())\n",
    "a.close()"
   ]
  },
  {
   "cell_type": "code",
   "execution_count": 13,
   "id": "6e370398",
   "metadata": {},
   "outputs": [
    {
     "name": "stdout",
     "output_type": "stream",
     "text": [
      "Subi\n",
      "Prathap\n",
      "Kalai\n",
      "Ramki\n",
      "Raji\n",
      "\n"
     ]
    }
   ],
   "source": [
    "b=open('/Users/student/Downloads/data1.txt','a')\n",
    "b.write('Ramki\\n')\n",
    "b.write('Raji\\n')\n",
    "b.close()\n",
    "c=open(\"/Users/student/Downloads/data1.txt\",'r')\n",
    "print(c.read())\n",
    "c.close()"
   ]
  },
  {
   "cell_type": "code",
   "execution_count": 14,
   "id": "b175c057",
   "metadata": {},
   "outputs": [
    {
     "name": "stdout",
     "output_type": "stream",
     "text": [
      "Subi\n",
      "\n"
     ]
    }
   ],
   "source": [
    "with open(\"/Users/student/Downloads/data1.txt\",'r')as file:\n",
    "    lines=file.readline()\n",
    "    print(lines)"
   ]
  },
  {
   "cell_type": "code",
   "execution_count": 15,
   "id": "a456952f",
   "metadata": {},
   "outputs": [
    {
     "name": "stdout",
     "output_type": "stream",
     "text": [
      "Madurai\n"
     ]
    }
   ],
   "source": [
    "import json\n",
    "x='{\"name\":\"Subi\",\"Age\":20,\"City\":\"Madurai\"}'\n",
    "y=json.loads(x)\n",
    "print(y['City'])"
   ]
  },
  {
   "cell_type": "code",
   "execution_count": 20,
   "id": "0c1137c9",
   "metadata": {},
   "outputs": [
    {
     "name": "stdout",
     "output_type": "stream",
     "text": [
      "\"{\\\"name\\\":\\\"Subi\\\",\\\"Age\\\":20,\\\"City\\\":\\\"Madurai\\\"}\"\n"
     ]
    }
   ],
   "source": [
    "x\n",
    "{\n",
    "    \"name\":'Subi',\"Age\":20,\"City\":'Madurai'\n",
    "}\n",
    "y=json.dumps(x)\n",
    "print(y)"
   ]
  },
  {
   "cell_type": "code",
   "execution_count": null,
   "id": "28087318",
   "metadata": {},
   "outputs": [],
   "source": []
  }
 ],
 "metadata": {
  "kernelspec": {
   "display_name": "Python 3 (ipykernel)",
   "language": "python",
   "name": "python3"
  },
  "language_info": {
   "codemirror_mode": {
    "name": "ipython",
    "version": 3
   },
   "file_extension": ".py",
   "mimetype": "text/x-python",
   "name": "python",
   "nbconvert_exporter": "python",
   "pygments_lexer": "ipython3",
   "version": "3.10.9"
  }
 },
 "nbformat": 4,
 "nbformat_minor": 5
}
